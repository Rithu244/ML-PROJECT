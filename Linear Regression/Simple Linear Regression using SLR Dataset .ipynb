{
 "cells": [
  {
   "cell_type": "markdown",
   "id": "26bedc9a",
   "metadata": {},
   "source": [
    "## Importing the libraries"
   ]
  },
  {
   "cell_type": "code",
   "execution_count": 1,
   "id": "9a9fd471",
   "metadata": {},
   "outputs": [],
   "source": [
    "import pandas as pd\n",
    "import numpy as np\n",
    "import matplotlib.pyplot as plt\n",
    "import seaborn as sns\n",
    "from warnings import filterwarnings\n",
    "filterwarnings('ignore')"
   ]
  },
  {
   "cell_type": "code",
   "execution_count": 2,
   "id": "c8350284",
   "metadata": {},
   "outputs": [
    {
     "data": {
      "text/html": [
       "<div>\n",
       "<style scoped>\n",
       "    .dataframe tbody tr th:only-of-type {\n",
       "        vertical-align: middle;\n",
       "    }\n",
       "\n",
       "    .dataframe tbody tr th {\n",
       "        vertical-align: top;\n",
       "    }\n",
       "\n",
       "    .dataframe thead th {\n",
       "        text-align: right;\n",
       "    }\n",
       "</style>\n",
       "<table border=\"1\" class=\"dataframe\">\n",
       "  <thead>\n",
       "    <tr style=\"text-align: right;\">\n",
       "      <th></th>\n",
       "      <th>Observation no</th>\n",
       "      <th>Advt</th>\n",
       "      <th>Sales</th>\n",
       "    </tr>\n",
       "  </thead>\n",
       "  <tbody>\n",
       "    <tr>\n",
       "      <th>0</th>\n",
       "      <td>1</td>\n",
       "      <td>92</td>\n",
       "      <td>930</td>\n",
       "    </tr>\n",
       "    <tr>\n",
       "      <th>1</th>\n",
       "      <td>2</td>\n",
       "      <td>94</td>\n",
       "      <td>900</td>\n",
       "    </tr>\n",
       "    <tr>\n",
       "      <th>2</th>\n",
       "      <td>3</td>\n",
       "      <td>97</td>\n",
       "      <td>1020</td>\n",
       "    </tr>\n",
       "    <tr>\n",
       "      <th>3</th>\n",
       "      <td>4</td>\n",
       "      <td>98</td>\n",
       "      <td>990</td>\n",
       "    </tr>\n",
       "    <tr>\n",
       "      <th>4</th>\n",
       "      <td>5</td>\n",
       "      <td>100</td>\n",
       "      <td>1100</td>\n",
       "    </tr>\n",
       "    <tr>\n",
       "      <th>5</th>\n",
       "      <td>6</td>\n",
       "      <td>102</td>\n",
       "      <td>1050</td>\n",
       "    </tr>\n",
       "    <tr>\n",
       "      <th>6</th>\n",
       "      <td>7</td>\n",
       "      <td>104</td>\n",
       "      <td>1150</td>\n",
       "    </tr>\n",
       "    <tr>\n",
       "      <th>7</th>\n",
       "      <td>8</td>\n",
       "      <td>105</td>\n",
       "      <td>1120</td>\n",
       "    </tr>\n",
       "    <tr>\n",
       "      <th>8</th>\n",
       "      <td>9</td>\n",
       "      <td>105</td>\n",
       "      <td>1130</td>\n",
       "    </tr>\n",
       "    <tr>\n",
       "      <th>9</th>\n",
       "      <td>10</td>\n",
       "      <td>107</td>\n",
       "      <td>1200</td>\n",
       "    </tr>\n",
       "    <tr>\n",
       "      <th>10</th>\n",
       "      <td>11</td>\n",
       "      <td>107</td>\n",
       "      <td>1250</td>\n",
       "    </tr>\n",
       "    <tr>\n",
       "      <th>11</th>\n",
       "      <td>12</td>\n",
       "      <td>110</td>\n",
       "      <td>1220</td>\n",
       "    </tr>\n",
       "  </tbody>\n",
       "</table>\n",
       "</div>"
      ],
      "text/plain": [
       "    Observation no  Advt  Sales\n",
       "0                1    92    930\n",
       "1                2    94    900\n",
       "2                3    97   1020\n",
       "3                4    98    990\n",
       "4                5   100   1100\n",
       "5                6   102   1050\n",
       "6                7   104   1150\n",
       "7                8   105   1120\n",
       "8                9   105   1130\n",
       "9               10   107   1200\n",
       "10              11   107   1250\n",
       "11              12   110   1220"
      ]
     },
     "execution_count": 2,
     "metadata": {},
     "output_type": "execute_result"
    }
   ],
   "source": [
    "data=pd.read_csv('slr.csv')\n",
    "data"
   ]
  },
  {
   "cell_type": "code",
   "execution_count": 3,
   "id": "c27327e6",
   "metadata": {},
   "outputs": [
    {
     "data": {
      "text/plain": [
       "(12, 3)"
      ]
     },
     "execution_count": 3,
     "metadata": {},
     "output_type": "execute_result"
    }
   ],
   "source": [
    "data.shape"
   ]
  },
  {
   "cell_type": "code",
   "execution_count": 4,
   "id": "b4b198ab",
   "metadata": {},
   "outputs": [
    {
     "data": {
      "image/png": "[encoded data removed]",
      "text/plain": [
       "<Figure size 640x480 with 1 Axes>"
      ]
     },
     "metadata": {},
     "output_type": "display_data"
    }
   ],
   "source": [
    "plt.scatter(data.Advt,data.Sales)\n",
    "plt.show()"
   ]
  },
  {
   "cell_type": "markdown",
   "id": "13b1bf2f",
   "metadata": {},
   "source": [
    "Now will try to build Linear Regression Model(OLS) :-\n",
    "\n",
    "OLS stands for **Ordinary Least Squares**, and it is a method used in statistical modeling to estimate the parameters of a linear regression model. In a linear regression model, you are trying to find the relationship between a dependent variable (response variable) and one or more independent variables (predictor variables).\n",
    "\n",
    "The Ordinary Least Squares method aims to find the line (or hyperplane in the case of multiple independent variables) that minimizes the sum of the squared differences between the observed values of the dependent variable and the values predicted by the linear model. The \"least squares\" part of the name refers to the fact that it minimizes the sum of the squared residuals."
   ]
  },
  {
   "cell_type": "code",
   "execution_count": 6,
   "id": "47a40903",
   "metadata": {},
   "outputs": [],
   "source": [
    "import statsmodels.api as sm\n",
    "import statsmodels.formula.api as smf"
   ]
  },
  {
   "cell_type": "code",
   "execution_count": 8,
   "id": "2856dc5b",
   "metadata": {},
   "outputs": [],
   "source": [
    "model=smf.ols(formula='Sales~Advt',data=data).fit()"
   ]
  },
  {
   "cell_type": "code",
   "execution_count": 9,
   "id": "14013c12",
   "metadata": {},
   "outputs": [
    {
     "name": "stdout",
     "output_type": "stream",
     "text": [
      "                            OLS Regression Results                            \n",
      "==============================================================================\n",
      "Dep. Variable:                  Sales   R-squared:                       0.901\n",
      "Model:                            OLS   Adj. R-squared:                  0.891\n",
      "Method:                 Least Squares   F-statistic:                     90.93\n",
      "Date:                Mon, 08 Jan 2024   Prob (F-statistic):           2.45e-06\n",
      "Time:                        23:14:55   Log-Likelihood:                -59.299\n",
      "No. Observations:                  12   AIC:                             122.6\n",
      "Df Residuals:                      10   BIC:                             123.6\n",
      "Df Model:                           1                                         \n",
      "Covariance Type:            nonrobust                                         \n",
      "==============================================================================\n",
      "                 coef    std err          t      P>|t|      [0.025      0.975]\n",
      "------------------------------------------------------------------------------\n",
      "Intercept   -852.0842    203.776     -4.181      0.002   -1306.125    -398.043\n",
      "Advt          19.0704      2.000      9.535      0.000      14.614      23.527\n",
      "==============================================================================\n",
      "Omnibus:                        1.883   Durbin-Watson:                   3.005\n",
      "Prob(Omnibus):                  0.390   Jarque-Bera (JB):                0.984\n",
      "Skew:                           0.312   Prob(JB):                        0.611\n",
      "Kurtosis:                       1.744   Cond. No.                     1.94e+03\n",
      "==============================================================================\n",
      "\n",
      "Notes:\n",
      "[1] Standard Errors assume that the covariance matrix of the errors is correctly specified.\n",
      "[2] The condition number is large, 1.94e+03. This might indicate that there are\n",
      "strong multicollinearity or other numerical problems.\n"
     ]
    }
   ],
   "source": [
    "print(model.summary())"
   ]
  },
  {
   "cell_type": "markdown",
   "id": "f0d2af17",
   "metadata": {},
   "source": [
    "## Doing Manually Method No. 1"
   ]
  },
  {
   "cell_type": "code",
   "execution_count": 10,
   "id": "d50e1bfc",
   "metadata": {},
   "outputs": [
    {
     "data": {
      "text/html": [
       "<div>\n",
       "<style scoped>\n",
       "    .dataframe tbody tr th:only-of-type {\n",
       "        vertical-align: middle;\n",
       "    }\n",
       "\n",
       "    .dataframe tbody tr th {\n",
       "        vertical-align: top;\n",
       "    }\n",
       "\n",
       "    .dataframe thead th {\n",
       "        text-align: right;\n",
       "    }\n",
       "</style>\n",
       "<table border=\"1\" class=\"dataframe\">\n",
       "  <thead>\n",
       "    <tr style=\"text-align: right;\">\n",
       "      <th></th>\n",
       "      <th>Observation no</th>\n",
       "      <th>Advt</th>\n",
       "      <th>Sales</th>\n",
       "    </tr>\n",
       "  </thead>\n",
       "  <tbody>\n",
       "    <tr>\n",
       "      <th>0</th>\n",
       "      <td>1</td>\n",
       "      <td>92</td>\n",
       "      <td>930</td>\n",
       "    </tr>\n",
       "    <tr>\n",
       "      <th>1</th>\n",
       "      <td>2</td>\n",
       "      <td>94</td>\n",
       "      <td>900</td>\n",
       "    </tr>\n",
       "    <tr>\n",
       "      <th>2</th>\n",
       "      <td>3</td>\n",
       "      <td>97</td>\n",
       "      <td>1020</td>\n",
       "    </tr>\n",
       "    <tr>\n",
       "      <th>3</th>\n",
       "      <td>4</td>\n",
       "      <td>98</td>\n",
       "      <td>990</td>\n",
       "    </tr>\n",
       "    <tr>\n",
       "      <th>4</th>\n",
       "      <td>5</td>\n",
       "      <td>100</td>\n",
       "      <td>1100</td>\n",
       "    </tr>\n",
       "    <tr>\n",
       "      <th>5</th>\n",
       "      <td>6</td>\n",
       "      <td>102</td>\n",
       "      <td>1050</td>\n",
       "    </tr>\n",
       "    <tr>\n",
       "      <th>6</th>\n",
       "      <td>7</td>\n",
       "      <td>104</td>\n",
       "      <td>1150</td>\n",
       "    </tr>\n",
       "    <tr>\n",
       "      <th>7</th>\n",
       "      <td>8</td>\n",
       "      <td>105</td>\n",
       "      <td>1120</td>\n",
       "    </tr>\n",
       "    <tr>\n",
       "      <th>8</th>\n",
       "      <td>9</td>\n",
       "      <td>105</td>\n",
       "      <td>1130</td>\n",
       "    </tr>\n",
       "    <tr>\n",
       "      <th>9</th>\n",
       "      <td>10</td>\n",
       "      <td>107</td>\n",
       "      <td>1200</td>\n",
       "    </tr>\n",
       "    <tr>\n",
       "      <th>10</th>\n",
       "      <td>11</td>\n",
       "      <td>107</td>\n",
       "      <td>1250</td>\n",
       "    </tr>\n",
       "    <tr>\n",
       "      <th>11</th>\n",
       "      <td>12</td>\n",
       "      <td>110</td>\n",
       "      <td>1220</td>\n",
       "    </tr>\n",
       "  </tbody>\n",
       "</table>\n",
       "</div>"
      ],
      "text/plain": [
       "    Observation no  Advt  Sales\n",
       "0                1    92    930\n",
       "1                2    94    900\n",
       "2                3    97   1020\n",
       "3                4    98    990\n",
       "4                5   100   1100\n",
       "5                6   102   1050\n",
       "6                7   104   1150\n",
       "7                8   105   1120\n",
       "8                9   105   1130\n",
       "9               10   107   1200\n",
       "10              11   107   1250\n",
       "11              12   110   1220"
      ]
     },
     "execution_count": 10,
     "metadata": {},
     "output_type": "execute_result"
    }
   ],
   "source": [
    "data"
   ]
  },
  {
   "cell_type": "code",
   "execution_count": 11,
   "id": "657f2422",
   "metadata": {},
   "outputs": [],
   "source": [
    "copied_data = data.copy(deep=True)"
   ]
  },
  {
   "cell_type": "code",
   "execution_count": 12,
   "id": "2e072f49",
   "metadata": {},
   "outputs": [],
   "source": [
    "data.drop('Observation no',axis=1,inplace=True)"
   ]
  },
  {
   "cell_type": "code",
   "execution_count": 13,
   "id": "cd68e2cc",
   "metadata": {},
   "outputs": [
    {
     "data": {
      "image/png": "[encoded data removed]",
      "text/plain": [
       "<Figure size 640x480 with 1 Axes>"
      ]
     },
     "metadata": {},
     "output_type": "display_data"
    }
   ],
   "source": [
    "# lets print the scatter plot\n",
    "plt.scatter(data.Advt,data.Sales)\n",
    "plt.xlabel('Advt')\n",
    "plt.ylabel('Sales')\n",
    "plt.show()"
   ]
  },
  {
   "cell_type": "code",
   "execution_count": 14,
   "id": "92284531",
   "metadata": {},
   "outputs": [
    {
     "data": {
      "text/plain": [
       "<Axes: >"
      ]
     },
     "execution_count": 14,
     "metadata": {},
     "output_type": "execute_result"
    },
    {
     "data": {
      "image/png": "[encoded data removed]",
      "text/plain": [
       "<Figure size 640x480 with 2 Axes>"
      ]
     },
     "metadata": {},
     "output_type": "display_data"
    }
   ],
   "source": [
    "sns.heatmap(data.corr(),annot=True)"
   ]
  },
  {
   "cell_type": "code",
   "execution_count": 15,
   "id": "14eeaf92",
   "metadata": {},
   "outputs": [
    {
     "name": "stdout",
     "output_type": "stream",
     "text": [
      "Mean of Advt = 101.75\n",
      "Mean of Sales = 1088.3333333333333\n"
     ]
    }
   ],
   "source": [
    "# now will find the mean\n",
    "\n",
    "mean_x=np.mean(data.Advt)\n",
    "mean_y=np.mean(data.Sales)\n",
    "print('Mean of Advt =',mean_x)\n",
    "print('Mean of Sales =',mean_y)"
   ]
  },
  {
   "cell_type": "code",
   "execution_count": 16,
   "id": "e587bbf9",
   "metadata": {},
   "outputs": [
    {
     "name": "stdout",
     "output_type": "stream",
     "text": [
      "Coefficient(m) = 19.070442992011618\n"
     ]
    }
   ],
   "source": [
    "# Now will find the coefficient \n",
    "# y=mx+c or y=a+bx  or y=b0+b1x1   # you can interpret in any way you want\n",
    "# m=((xi-mean_x)(yi-mean_y))/(xi-mean_x)^2          \n",
    "a=0\n",
    "b=0\n",
    "for i in range(len(data.Advt)):\n",
    "    a+=(data.Advt[i]-mean_x)*(data.Sales[i]-mean_y)\n",
    "    b+=(data.Advt[i]-mean_x)**2\n",
    "m=a/b\n",
    "print('Coefficient(m) =',m)"
   ]
  },
  {
   "cell_type": "code",
   "execution_count": 17,
   "id": "e4f1168c",
   "metadata": {},
   "outputs": [
    {
     "name": "stdout",
     "output_type": "stream",
     "text": [
      "-852.0842411038489\n"
     ]
    }
   ],
   "source": [
    "# will find the intercept       y=mx+c\n",
    "c=0\n",
    "for i in range(len(data.Advt)):\n",
    "    c=mean_y-(m*mean_x)\n",
    "print(c)"
   ]
  },
  {
   "cell_type": "code",
   "execution_count": 18,
   "id": "e11d764d",
   "metadata": {
    "scrolled": true
   },
   "outputs": [
    {
     "name": "stdout",
     "output_type": "stream",
     "text": [
      "[902.39651416122, 940.5374001452433, 997.7487291212781, 1016.8191721132896, 1054.9600580973129, 1093.1009440813361, 1131.2418300653594, 1150.312273057371, 1150.312273057371, 1188.4531590413942, 1188.4531590413942, 1245.664488017429]\n"
     ]
    }
   ],
   "source": [
    "# now will find the predicted value\n",
    "# y_pred=mx+c\n",
    "y_pred=[]\n",
    "for i in range(len(data.Advt)):\n",
    "    y_pred.append(m*data.Advt[i]+c)\n",
    "print(y_pred)"
   ]
  },
  {
   "cell_type": "code",
   "execution_count": 19,
   "id": "5134e7c9",
   "metadata": {},
   "outputs": [
    {
     "data": {
      "text/plain": [
       "13059.999999999996"
      ]
     },
     "execution_count": 19,
     "metadata": {},
     "output_type": "execute_result"
    }
   ],
   "source": [
    "sum(y_pred)"
   ]
  },
  {
   "cell_type": "code",
   "execution_count": 20,
   "id": "87a07957",
   "metadata": {},
   "outputs": [
    {
     "data": {
      "image/png": "[encoded data removed]",
      "text/plain": [
       "<Figure size 640x480 with 1 Axes>"
      ]
     },
     "metadata": {},
     "output_type": "display_data"
    }
   ],
   "source": [
    "plt.plot(data.Advt,y_pred)\n",
    "plt.scatter(data.Advt,data.Sales)\n",
    "plt.show()"
   ]
  },
  {
   "cell_type": "code",
   "execution_count": 21,
   "id": "7b7091ba",
   "metadata": {},
   "outputs": [
    {
     "data": {
      "text/plain": [
       "(12,)"
      ]
     },
     "execution_count": 21,
     "metadata": {},
     "output_type": "execute_result"
    }
   ],
   "source": [
    "data.Advt.shape"
   ]
  },
  {
   "cell_type": "code",
   "execution_count": 22,
   "id": "42706c64",
   "metadata": {},
   "outputs": [
    {
     "data": {
      "text/plain": [
       "(12,)"
      ]
     },
     "execution_count": 22,
     "metadata": {},
     "output_type": "execute_result"
    }
   ],
   "source": [
    "data.Sales.shape"
   ]
  },
  {
   "cell_type": "code",
   "execution_count": 23,
   "id": "b87aee49",
   "metadata": {},
   "outputs": [],
   "source": [
    "x=data"
   ]
  },
  {
   "cell_type": "code",
   "execution_count": 24,
   "id": "7ecc2e0f",
   "metadata": {},
   "outputs": [
    {
     "data": {
      "text/plain": [
       "0     27.603486\n",
       "1    -40.537400\n",
       "2     22.251271\n",
       "3    -26.819172\n",
       "4     45.039942\n",
       "5    -43.100944\n",
       "6     18.758170\n",
       "7    -30.312273\n",
       "8    -20.312273\n",
       "9     11.546841\n",
       "10    61.546841\n",
       "11   -25.664488\n",
       "Name: Sales, dtype: float64"
      ]
     },
     "execution_count": 24,
     "metadata": {},
     "output_type": "execute_result"
    }
   ],
   "source": [
    "# Residuals\n",
    "\n",
    "residuals=data.Sales-y_pred\n",
    "residuals"
   ]
  },
  {
   "cell_type": "code",
   "execution_count": 25,
   "id": "370bfe8e",
   "metadata": {},
   "outputs": [
    {
     "data": {
      "text/plain": [
       "[25069.44444444442,\n",
       " 35469.444444444416,\n",
       " 4669.444444444434,\n",
       " 9669.444444444429,\n",
       " 136.11111111111288,\n",
       " 1469.4444444444387,\n",
       " 3802.777777777787,\n",
       " 1002.7777777777826,\n",
       " 1736.1111111111175,\n",
       " 12469.444444444462,\n",
       " 26136.111111111135,\n",
       " 17336.11111111113]"
      ]
     },
     "execution_count": 25,
     "metadata": {},
     "output_type": "execute_result"
    }
   ],
   "source": [
    "# will find sst[sum of squared total] ==>  (actual y - mean_y)^2\n",
    "\n",
    "SST=(data.Sales-mean_y)**2\n",
    "SST=list(SST)\n",
    "SST"
   ]
  },
  {
   "cell_type": "code",
   "execution_count": 26,
   "id": "46a82f42",
   "metadata": {},
   "outputs": [
    {
     "data": {
      "text/plain": [
       "138966.66666666666"
      ]
     },
     "execution_count": 26,
     "metadata": {},
     "output_type": "execute_result"
    }
   ],
   "source": [
    "SST=sum(SST)\n",
    "SST"
   ]
  },
  {
   "cell_type": "code",
   "execution_count": 27,
   "id": "11c8dea6",
   "metadata": {},
   "outputs": [
    {
     "name": "stdout",
     "output_type": "stream",
     "text": [
      "[34572.50072384314, 21843.637866938356, 8205.570520254685, 5114.275255006397, 1113.7754999791719, 22.730112244472586, 1841.139091802299, 3841.388969315895, 3841.388969315895, 10023.979499812502, 10023.979499812502, 24753.09223423086]\n"
     ]
    }
   ],
   "source": [
    "# will find SSR[sum of squared of residuals] ==> (y_pred-y_mean)^2\n",
    "SSR=[]\n",
    "for i in range(len(y_pred)):\n",
    "    SSR.append((y_pred[i]-mean_y)**2)\n",
    "print(SSR)"
   ]
  },
  {
   "cell_type": "code",
   "execution_count": 28,
   "id": "b5b22879",
   "metadata": {},
   "outputs": [
    {
     "data": {
      "text/plain": [
       "125197.45824255618"
      ]
     },
     "execution_count": 28,
     "metadata": {},
     "output_type": "execute_result"
    }
   ],
   "source": [
    "SSR=sum(SSR)\n",
    "SSR"
   ]
  },
  {
   "cell_type": "code",
   "execution_count": 29,
   "id": "43cfc217",
   "metadata": {},
   "outputs": [
    {
     "name": "stdout",
     "output_type": "stream",
     "text": [
      "[761.9524304517274, 1643.28081053557, 495.1190557182584, 719.2679928422504, 2028.5963665974323, 1857.6913807024646, 351.8689392968542, 918.8338979046156, 412.58843675719703, 133.32953612333648, 3788.013631983916, 658.6659451967564]\n"
     ]
    }
   ],
   "source": [
    "# will find SSE(Sum of squared error)  ==> (y_actual -y_pred)^2\n",
    "SSE=[]\n",
    "for i in range(len(y_pred)):\n",
    "    SSE.append((data.Sales[i]-y_pred[i])**2)\n",
    "print(SSE)"
   ]
  },
  {
   "cell_type": "code",
   "execution_count": 30,
   "id": "aeb3d84b",
   "metadata": {},
   "outputs": [
    {
     "data": {
      "text/plain": [
       "13769.208424110378"
      ]
     },
     "execution_count": 30,
     "metadata": {},
     "output_type": "execute_result"
    }
   ],
   "source": [
    "SSE=sum(SSE)\n",
    "SSE"
   ]
  },
  {
   "cell_type": "code",
   "execution_count": 31,
   "id": "82d29925",
   "metadata": {},
   "outputs": [
    {
     "data": {
      "text/plain": [
       "37.1068840299349"
      ]
     },
     "execution_count": 31,
     "metadata": {},
     "output_type": "execute_result"
    }
   ],
   "source": [
    "# now will find standard error residuals  ==> SER=sqrt(sse/(n-k-1))\n",
    "\n",
    "SER=np.sqrt(SSE/(len(y_pred)-1-1))\n",
    "SER"
   ]
  },
  {
   "cell_type": "code",
   "execution_count": 32,
   "id": "b731ecdf",
   "metadata": {},
   "outputs": [
    {
     "data": {
      "text/plain": [
       "1.999942513633552"
      ]
     },
     "execution_count": 32,
     "metadata": {},
     "output_type": "execute_result"
    }
   ],
   "source": [
    "# now will calculate Test Statistics     t=(b1-beta1)/sb\n",
    "\n",
    "# sb=(standart error of residuals)/(srqt(ssxx))\n",
    "sb=SER/np.sqrt(344.25)\n",
    "sb"
   ]
  },
  {
   "cell_type": "code",
   "execution_count": 33,
   "id": "e14ee28f",
   "metadata": {},
   "outputs": [
    {
     "data": {
      "text/plain": [
       "9.535495576502296"
      ]
     },
     "execution_count": 33,
     "metadata": {},
     "output_type": "execute_result"
    }
   ],
   "source": [
    "t=(m-0)/sb\n",
    "t"
   ]
  },
  {
   "cell_type": "code",
   "execution_count": 34,
   "id": "2cf508de",
   "metadata": {},
   "outputs": [
    {
     "data": {
      "text/plain": [
       "0.9009171857224"
      ]
     },
     "execution_count": 34,
     "metadata": {},
     "output_type": "execute_result"
    }
   ],
   "source": [
    "R_squared=SSR/SST\n",
    "R_squared"
   ]
  },
  {
   "cell_type": "code",
   "execution_count": 35,
   "id": "d56a3957",
   "metadata": {},
   "outputs": [
    {
     "data": {
      "text/plain": [
       "12"
      ]
     },
     "execution_count": 35,
     "metadata": {},
     "output_type": "execute_result"
    }
   ],
   "source": [
    "# n= number of observations\n",
    "n=len(data.Advt)\n",
    "n"
   ]
  },
  {
   "cell_type": "code",
   "execution_count": 36,
   "id": "a08fdb9f",
   "metadata": {},
   "outputs": [],
   "source": [
    "# k= no of predictors \n",
    "k=1"
   ]
  },
  {
   "cell_type": "code",
   "execution_count": 37,
   "id": "f8d4ae9c",
   "metadata": {},
   "outputs": [
    {
     "data": {
      "text/plain": [
       "0.8910089042946407"
      ]
     },
     "execution_count": 37,
     "metadata": {},
     "output_type": "execute_result"
    }
   ],
   "source": [
    "adjusted_R_Squared=1-((SSE/(n-k-1))/(SST/(n-1)))\n",
    "adjusted_R_Squared"
   ]
  },
  {
   "cell_type": "markdown",
   "id": "f00b6c52",
   "metadata": {},
   "source": [
    "# Assemptions"
   ]
  },
  {
   "cell_type": "code",
   "execution_count": 38,
   "id": "ecb68d0e",
   "metadata": {},
   "outputs": [
    {
     "data": {
      "text/plain": [
       "<matplotlib.collections.PathCollection at 0x116c0f14410>"
      ]
     },
     "execution_count": 38,
     "metadata": {},
     "output_type": "execute_result"
    },
    {
     "data": {
      "image/png": "[encoded data removed]",
      "text/plain": [
       "<Figure size 640x480 with 1 Axes>"
      ]
     },
     "metadata": {},
     "output_type": "display_data"
    }
   ],
   "source": [
    "# Assemption 1.\n",
    "# Linearity: There should be linear relationship between dependent and independent features\n",
    "\n",
    "plt.scatter(data.Advt,data.Sales)"
   ]
  },
  {
   "cell_type": "code",
   "execution_count": 39,
   "id": "ee76162c",
   "metadata": {},
   "outputs": [
    {
     "data": {
      "image/png": "[encoded data removed]",
      "text/plain": [
       "<Figure size 640x480 with 1 Axes>"
      ]
     },
     "metadata": {},
     "output_type": "display_data"
    }
   ],
   "source": [
    "# Assumption 2 : Independence of Residuals\n",
    "# X- axis:  observation number, y-axis = error\n",
    "\n",
    "plt.scatter(copied_data['Observation no'],residuals)\n",
    "plt.title('Independence of Error')\n",
    "plt.xlabel('Observation No')\n",
    "plt.ylabel('Error')\n",
    "plt.show()"
   ]
  },
  {
   "cell_type": "code",
   "execution_count": 40,
   "id": "4066f00c",
   "metadata": {},
   "outputs": [
    {
     "data": {
      "image/png": "[encoded data removed]",
      "text/plain": [
       "<Figure size 640x480 with 1 Axes>"
      ]
     },
     "metadata": {},
     "output_type": "display_data"
    }
   ],
   "source": [
    "# Assemption 3.\n",
    "# Normality of Residuals: The residuals should be approximately normally distributed. \n",
    "\n",
    "\n",
    "plt.hist(residuals)\n",
    "plt.title('Histogram of Error')\n",
    "plt.xlabel('Error')\n",
    "plt.ylabel('Frequency')\n",
    "plt.show()"
   ]
  },
  {
   "cell_type": "code",
   "execution_count": 41,
   "id": "7ffe3910",
   "metadata": {
    "scrolled": true
   },
   "outputs": [
    {
     "data": {
      "image/png": "[encoded data removed]",
      "text/plain": [
       "<Figure size 640x480 with 1 Axes>"
      ]
     },
     "metadata": {},
     "output_type": "display_data"
    }
   ],
   "source": [
    "plt.boxplot(residuals,vert=False)\n",
    "plt.title('Box plot of Error')\n",
    "plt.show()"
   ]
  },
  {
   "cell_type": "code",
   "execution_count": 42,
   "id": "8a560875",
   "metadata": {},
   "outputs": [
    {
     "data": {
      "text/html": [
       "<div>\n",
       "<style scoped>\n",
       "    .dataframe tbody tr th:only-of-type {\n",
       "        vertical-align: middle;\n",
       "    }\n",
       "\n",
       "    .dataframe tbody tr th {\n",
       "        vertical-align: top;\n",
       "    }\n",
       "\n",
       "    .dataframe thead th {\n",
       "        text-align: right;\n",
       "    }\n",
       "</style>\n",
       "<table border=\"1\" class=\"dataframe\">\n",
       "  <thead>\n",
       "    <tr style=\"text-align: right;\">\n",
       "      <th></th>\n",
       "      <th>Advt</th>\n",
       "      <th>Sales</th>\n",
       "    </tr>\n",
       "  </thead>\n",
       "  <tbody>\n",
       "    <tr>\n",
       "      <th>0</th>\n",
       "      <td>92</td>\n",
       "      <td>930</td>\n",
       "    </tr>\n",
       "    <tr>\n",
       "      <th>1</th>\n",
       "      <td>94</td>\n",
       "      <td>900</td>\n",
       "    </tr>\n",
       "    <tr>\n",
       "      <th>2</th>\n",
       "      <td>97</td>\n",
       "      <td>1020</td>\n",
       "    </tr>\n",
       "    <tr>\n",
       "      <th>3</th>\n",
       "      <td>98</td>\n",
       "      <td>990</td>\n",
       "    </tr>\n",
       "    <tr>\n",
       "      <th>4</th>\n",
       "      <td>100</td>\n",
       "      <td>1100</td>\n",
       "    </tr>\n",
       "  </tbody>\n",
       "</table>\n",
       "</div>"
      ],
      "text/plain": [
       "   Advt  Sales\n",
       "0    92    930\n",
       "1    94    900\n",
       "2    97   1020\n",
       "3    98    990\n",
       "4   100   1100"
      ]
     },
     "execution_count": 42,
     "metadata": {},
     "output_type": "execute_result"
    }
   ],
   "source": [
    "data.head()"
   ]
  },
  {
   "cell_type": "code",
   "execution_count": 43,
   "id": "492c833e",
   "metadata": {},
   "outputs": [
    {
     "data": {
      "image/png": "[encoded data removed]",
      "text/plain": [
       "<Figure size 640x480 with 1 Axes>"
      ]
     },
     "metadata": {},
     "output_type": "display_data"
    }
   ],
   "source": [
    "# Assumption 4 :  Independence of Error\n",
    "# X-axis : predicted values , y-axis = error\n",
    "\n",
    "plt.scatter(y_pred,residuals)\n",
    "plt.title('Constant Error Variance')\n",
    "plt.xlabel('Predicted Sales')\n",
    "plt.ylabel('Error')\n",
    "plt.show()"
   ]
  },
  {
   "cell_type": "code",
   "execution_count": 44,
   "id": "972a4ca6",
   "metadata": {},
   "outputs": [
    {
     "data": {
      "text/html": [
       "<div>\n",
       "<style scoped>\n",
       "    .dataframe tbody tr th:only-of-type {\n",
       "        vertical-align: middle;\n",
       "    }\n",
       "\n",
       "    .dataframe tbody tr th {\n",
       "        vertical-align: top;\n",
       "    }\n",
       "\n",
       "    .dataframe thead th {\n",
       "        text-align: right;\n",
       "    }\n",
       "</style>\n",
       "<table border=\"1\" class=\"dataframe\">\n",
       "  <thead>\n",
       "    <tr style=\"text-align: right;\">\n",
       "      <th></th>\n",
       "      <th>Advt</th>\n",
       "      <th>Sales</th>\n",
       "    </tr>\n",
       "  </thead>\n",
       "  <tbody>\n",
       "    <tr>\n",
       "      <th>0</th>\n",
       "      <td>92</td>\n",
       "      <td>930</td>\n",
       "    </tr>\n",
       "  </tbody>\n",
       "</table>\n",
       "</div>"
      ],
      "text/plain": [
       "   Advt  Sales\n",
       "0    92    930"
      ]
     },
     "execution_count": 44,
     "metadata": {},
     "output_type": "execute_result"
    }
   ],
   "source": [
    "data.head(1)"
   ]
  },
  {
   "cell_type": "code",
   "execution_count": 45,
   "id": "2267a327",
   "metadata": {},
   "outputs": [
    {
     "data": {
      "text/plain": [
       "Index(['Advt', 'Sales'], dtype='object')"
      ]
     },
     "execution_count": 45,
     "metadata": {},
     "output_type": "execute_result"
    }
   ],
   "source": [
    "data.columns"
   ]
  },
  {
   "cell_type": "code",
   "execution_count": 46,
   "id": "495cb598",
   "metadata": {},
   "outputs": [],
   "source": [
    "data_slr=data"
   ]
  },
  {
   "cell_type": "code",
   "execution_count": 47,
   "id": "30c1bf33",
   "metadata": {},
   "outputs": [],
   "source": [
    "data_slr['Residuals']=residuals"
   ]
  },
  {
   "cell_type": "code",
   "execution_count": 48,
   "id": "3c77626a",
   "metadata": {
    "scrolled": true
   },
   "outputs": [
    {
     "data": {
      "text/plain": [
       "<Axes: >"
      ]
     },
     "execution_count": 48,
     "metadata": {},
     "output_type": "execute_result"
    },
    {
     "data": {
      "image/png": "[encoded data removed]",
      "text/plain": [
       "<Figure size 640x480 with 2 Axes>"
      ]
     },
     "metadata": {},
     "output_type": "display_data"
    }
   ],
   "source": [
    "sns.heatmap(data_slr.corr(),annot=True)"
   ]
  },
  {
   "cell_type": "code",
   "execution_count": null,
   "id": "12914e15",
   "metadata": {},
   "outputs": [],
   "source": []
  },
  {
   "cell_type": "code",
   "execution_count": null,
   "id": "271ad638",
   "metadata": {},
   "outputs": [],
   "source": []
  }
 ],
 "metadata": {
  "kernelspec": {
   "display_name": "Python 3 (ipykernel)",
   "language": "python",
   "name": "python3"
  },
  "language_info": {
   "codemirror_mode": {
    "name": "ipython",
    "version": 3
   },
   "file_extension": ".py",
   "mimetype": "text/x-python",
   "name": "python",
   "nbconvert_exporter": "python",
   "pygments_lexer": "ipython3",
   "version": "3.12.4"
  }
 },
 "nbformat": 4,
 "nbformat_minor": 5
}
